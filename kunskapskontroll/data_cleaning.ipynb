{
 "cells": [
  {
   "cell_type": "code",
   "execution_count": null,
   "id": "431d0eda",
   "metadata": {},
   "outputs": [],
   "source": [
    "import pandas as pd\n",
    "from sklearn.preprocessing import StandardScaler"
   ]
  },
  {
   "cell_type": "code",
   "execution_count": 2,
   "id": "c7a78510",
   "metadata": {},
   "outputs": [],
   "source": [
    "df = pd.read_csv(\"../data/diamonds.csv\")\n"
   ]
  },
  {
   "cell_type": "markdown",
   "id": "37ae6041",
   "metadata": {},
   "source": [
    "# Hur ska datasetet hanteras för att få fram så pålitlig data som möjligt?\n",
    "## Hantera x, y och z\n",
    "- Efter att ha testat beräkning av x, y och z i förhållande till carat och depth har jag kommit fram till att det finns mycket felvärden i yttermåtten, och ska jag gå efter något så har jag carat och depth att utgå från, eftersom dessa bör vara mer korrekta än yttermåtten. Totalt var det ca 30 000 diamanter som utifrån inlagda x, y och z värden inte var korrekt beräknade i carat. Om man tar bort x, y och z försvinner också ett flertal extrema utliggare. Men ytterligare ett problem om man tar bort x, y och z är att många rader försvinner och jag vet ännu inte varför det är stor skillnad. \n",
    "\n",
    "## Lösning:\n",
    "Efter städning skapar jag tre dataset:\n",
    "- Behåll original-dataset: `df_clean_original`\n",
    "    - Slå ihop x, y och z till ett värde som ger ett volymvärde istället.\n",
    "- Skapa ett dataset med de korrekta beräkningarna: `df_clean_corr_carat`\n",
    "    - Slå ihop x, y och z till ett värde som ger ett volymvärde istället.\n",
    "- Skapa ett dataset med de inkorrekta beräkningarna: `df_clean_inc_carat`\n",
    "    - Slå ihop x, y och z till ett värde som ger ett volymvärde istället.\n",
    "\n",
    "Sedan jämför jag dessa för att se vilken som upplevs mest trovärdig.\n",
    "\n",
    "# Att städa:\n",
    "df_clean = df.copy()\n",
    "## Ta bort nollvärden och extrema utliggare.\n",
    "Kommer extremerna påverka mycket? Får också se det ur perspektivet att ska en Guldfyndsbutik sälja så stora diamanter? Troligen inte.\n",
    "\n",
    "## Ändra object datatyp till category\n",
    "För att kunna encode värdena till nummeriska värden\n",
    "## Ta bort dubletter\n",
    "För att få en lite mer tillförlitlig data\n",
    "## Lägger till encoded för cut, color och clarity\n",
    "Använder bara numeriska värden för kolumnerna\n",
    "## Tar bort cut, color och clarity\n",
    "För att få en mindre matris\n",
    "## Dela upp carat i 10 lika stora categorier\n",
    "För att det förmodligen finns en varians i korrelationen mellan carat och pris beroende på carat.\n",
    "## Dela upp datasetet i tre: original, korrect carat baserad på x, y, z och inkorrekt carat\n",
    "För att kunna sätta dataseten i relation till varandra för att se hur de förhåller sig till varandra. Skulle jag ha ett dataset för att visa helt korrekta carat i förhållande till volymen? Men åter igen blir det vilket värde är mest tillförlitligt.\n",
    "## Ta bort x, y, z\n",
    "För att x, y och z blir överflödigt eftersom jag har delat upp i tre dataset, som antingen har rätt beräknad carat och därmed rätt volymvärden, eller fel carat/yttermåt och då spelar dem ingen roll.\n",
    "## Normalisera datan\n",
    "För att kunna jämföra datan enklare. Sparar även en ny csv för varje dataset, så att jag kan återanvända det jag gjort när jag analyserar datan mot uppgiften.\n",
    "Kom ihåg att använda:\n",
    "```python\n",
    "df_correct_carat_clean = pd.read_csv('data/normalized_diamonds_clean_corr_carat_without_x_y_z.csv', index_col=0)\n",
    "df_incorrect_carat_clean = pd.read_csv('data/normalized_diamonds_clean_inc_carat_without_x_y_z.csv', index_col=0)\n",
    "df_original_clean = pd.read_csv('data/normalized_diamonds_clean_without_x_y_z.csv', index_col=0)\n",
    "```\n"
   ]
  },
  {
   "cell_type": "markdown",
   "id": "99f496a0",
   "metadata": {},
   "source": [
    "# Cleaning"
   ]
  },
  {
   "cell_type": "code",
   "execution_count": 3,
   "id": "db062c6d",
   "metadata": {},
   "outputs": [],
   "source": [
    "df_clean = df.copy()"
   ]
  },
  {
   "cell_type": "markdown",
   "id": "6642b710",
   "metadata": {},
   "source": [
    "## Ta bort nollvärden och extrema utliggare."
   ]
  },
  {
   "cell_type": "code",
   "execution_count": 4,
   "id": "b248c0ce",
   "metadata": {},
   "outputs": [
    {
     "name": "stdout",
     "output_type": "stream",
     "text": [
      "carat: 1883 outliers (3.5%)\n",
      "carat: 40 extreme (0.1%)\n",
      "depth: 2543 outliers (4.7%)\n",
      "depth: 278 extreme (0.5%)\n",
      "table: 604 outliers (1.1%)\n",
      "table: 28 extreme (0.1%)\n",
      "price: 3532 outliers (6.6%)\n",
      "price: 121 extreme (0.2%)\n",
      "x: 24 outliers (0.0%)\n",
      "x: 0 extreme (0.0%)\n",
      "y: 22 outliers (0.0%)\n",
      "y: 2 extreme (0.0%)\n",
      "z: 29 outliers (0.1%)\n",
      "z: 2 extreme (0.0%)\n",
      "\n",
      "Removed 450 extreme outlier rows\n",
      "Retained 53470 clean rows (99.2%)\n",
      "       carat        cut color clarity  depth  table  price     x     y     z\n",
      "0       0.23      Ideal     E     SI2   61.5   55.0    326  3.95  3.98  2.43\n",
      "1       0.21    Premium     E     SI1   59.8   61.0    326  3.89  3.84  2.31\n",
      "2       0.23       Good     E     VS1   56.9   65.0    327  4.05  4.07  2.31\n",
      "3       0.29    Premium     I     VS2   62.4   58.0    334  4.20  4.23  2.63\n",
      "4       0.31       Good     J     SI2   63.3   58.0    335  4.34  4.35  2.75\n",
      "...      ...        ...   ...     ...    ...    ...    ...   ...   ...   ...\n",
      "53935   0.72      Ideal     D     SI1   60.8   57.0   2757  5.75  5.76  3.50\n",
      "53936   0.72       Good     D     SI1   63.1   55.0   2757  5.69  5.75  3.61\n",
      "53937   0.70  Very Good     D     SI1   62.8   60.0   2757  5.66  5.68  3.56\n",
      "53938   0.86    Premium     H     SI2   61.0   58.0   2757  6.15  6.12  3.74\n",
      "53939   0.75      Ideal     D     SI2   62.2   55.0   2757  5.83  5.87  3.64\n",
      "\n",
      "[53470 rows x 10 columns]\n"
     ]
    }
   ],
   "source": [
    "# Tar bort nollvärden\n",
    "df_clean = df_clean[(df.x > 0) & (df.y > 0) & (df.z > 0)]\n",
    "\n",
    "# Hantera outliers i numeriska kolumner\n",
    "# Välja ut numeriska kolumner\n",
    "columns_to_check = df_clean.select_dtypes(include=['number']).columns \n",
    "\n",
    "# Skapa en ny df för att spara utliggarna\n",
    "outlier_info = pd.DataFrame(index=df_clean.index)\n",
    "\n",
    "# Hitta utliggare\n",
    "for col in columns_to_check:\n",
    "    # Kvartiler\n",
    "    Q1 = df_clean[col].quantile(0.25)\n",
    "    Q3 = df_clean[col].quantile(0.75)\n",
    "    IQR = Q3 - Q1\n",
    "\n",
    "    lower = Q1 - 1.5 * IQR\n",
    "    upper = Q3 + 1.5 * IQR\n",
    "    extreme_lower = Q1 -3.0 * IQR\n",
    "    extreme_upper = Q3 + 3.0 * IQR\n",
    "\n",
    "    # Lägger till en column med en markering om ett värde är utliggare\n",
    "    outlier_info[f\"{col}_outlier\"] = ((df_clean[col] < lower) | (df_clean[col] > upper))\n",
    "    # Lägger till en column med markering om värdet är extrem utliggare\n",
    "    outlier_info[f\"{col}_extreme\"] = ((df_clean[col] < extreme_lower) | (df_clean[col] > extreme_upper))\n",
    "\n",
    "    # Beräknar hur många utliggare som finns\n",
    "    outliers_count = outlier_info[f\"{col}_outlier\"].sum()\n",
    "    extreme_count = outlier_info[f\"{col}_extreme\"].sum()\n",
    "\n",
    "    print(f\"{col}: {outliers_count} outliers ({outliers_count/len(df_clean)*100:.1f}%)\")\n",
    "    print(f\"{col}: {extreme_count} extreme ({extreme_count/len(df_clean)*100:.1f}%)\")\n",
    "\n",
    "# Skapa sammanfattningskolumner\n",
    "outlier_info['total_outlier_flags'] = outlier_info.filter(like='_outlier').sum(axis=1)\n",
    "outlier_info['total_extreme_flags'] = outlier_info.filter(like='_extreme').sum(axis=1)\n",
    "\n",
    "# Slår ihop summering med städat df\n",
    "df_clean_with_extremes = pd.concat([df_clean, outlier_info], axis=1)\n",
    "\n",
    "# Skapar en df utan extremer\n",
    "df_clean = df_clean[outlier_info['total_extreme_flags'] == 0].copy()\n",
    "print(f\"\\nRemoved {len(df_clean_with_extremes) - len(df_clean)} extreme outlier rows\")\n",
    "print(f\"Retained {len(df_clean)} clean rows ({len(df_clean)/len(df_clean_with_extremes)*100:.1f}%)\")\n",
    "print(df_clean)"
   ]
  },
  {
   "cell_type": "markdown",
   "id": "93cea83d",
   "metadata": {},
   "source": [
    "## Ändra object datatyp till category"
   ]
  },
  {
   "cell_type": "code",
   "execution_count": 5,
   "id": "11b0443e",
   "metadata": {},
   "outputs": [],
   "source": [
    "df_clean['cut'] = pd.Categorical(df_clean.cut, ['Fair', 'Good', 'Very Good', 'Premium', 'Ideal'], ordered=True)\n",
    "\n",
    "df_clean['color'] = pd.Categorical(df_clean.color, ['J', 'I', 'H', 'G', 'F', 'E', 'D'], ordered=True)\n",
    "\n",
    "# clarity är extra viktig för den är fel. Ska vara enligt: I1, SI2, SI1, VS2, VS1, VVS2, VVS1, IF\n",
    "df_clean['clarity'] = pd.Categorical(df_clean.clarity, [\"I1\", \"SI2\", \"SI1\", \"VS2\", \"VS1\",\n",
    "\"VVS2\", \"VVS1\", \"IF\"], ordered=True)"
   ]
  },
  {
   "cell_type": "markdown",
   "id": "1b5edff3",
   "metadata": {},
   "source": [
    "## Ta bort dubletter"
   ]
  },
  {
   "cell_type": "code",
   "execution_count": 6,
   "id": "4be20d87",
   "metadata": {},
   "outputs": [
    {
     "name": "stdout",
     "output_type": "stream",
     "text": [
      "Found 142 duplicate rows\n",
      "Duplicate row indices: [984, 985, 986, 987, 1998, 2155, 2783, 3116, 3663, 3940, 4341, 4448, 4473, 5120, 5605, 6274, 7641, 7673, 8255, 8522, 9116, 9512, 10093, 10276, 10383, 10917, 11149, 11221, 12166, 12193, 12542, 13753, 13892, 14807, 14896, 15201, 15339, 16147, 17009, 17422, 18544, 19527, 20475, 20890, 21444, 21622, 21984, 21986, 22213, 22230, 22642, 22684, 23158, 23561, 23805, 23985, 24679, 25153, 25754, 25880, 26219, 26354, 26408, 26823, 26843, 27426, 27742, 27778, 27986, 28002, 28254, 28690, 29169, 29252, 29318, 29463, 29823, 30051, 30172, 30236, 30327, 30544, 30911, 30982, 31285, 31287, 31908, 32309, 32690, 33037, 33079, 33463, 33719, 33814, 33835, 34077, 34185, 34317, 35102, 35222, 36098, 36130, 36197, 36302, 36514, 36822, 37022, 37142, 37143, 37387, 37639, 38028, 38145, 38211, 38274, 38366, 38503, 38559, 38694, 38765, 38871, 38995, 39077, 39146, 39728, 40094, 40750, 41300, 41422, 41731, 42597, 42873, 43036, 43110, 43180, 46163, 46242, 46657, 46881, 47549, 48898, 49644]\n",
      "       carat        cut color clarity  depth  table  price     x     y     z\n",
      "0       0.23      Ideal     E     SI2   61.5   55.0    326  3.95  3.98  2.43\n",
      "1       0.21    Premium     E     SI1   59.8   61.0    326  3.89  3.84  2.31\n",
      "2       0.23       Good     E     VS1   56.9   65.0    327  4.05  4.07  2.31\n",
      "3       0.29    Premium     I     VS2   62.4   58.0    334  4.20  4.23  2.63\n",
      "4       0.31       Good     J     SI2   63.3   58.0    335  4.34  4.35  2.75\n",
      "...      ...        ...   ...     ...    ...    ...    ...   ...   ...   ...\n",
      "53935   0.72      Ideal     D     SI1   60.8   57.0   2757  5.75  5.76  3.50\n",
      "53936   0.72       Good     D     SI1   63.1   55.0   2757  5.69  5.75  3.61\n",
      "53937   0.70  Very Good     D     SI1   62.8   60.0   2757  5.66  5.68  3.56\n",
      "53938   0.86    Premium     H     SI2   61.0   58.0   2757  6.15  6.12  3.74\n",
      "53939   0.75      Ideal     D     SI2   62.2   55.0   2757  5.83  5.87  3.64\n",
      "\n",
      "[53330 rows x 10 columns]\n"
     ]
    }
   ],
   "source": [
    "duplicate_indices_full = []\n",
    "\n",
    "duplicated_rows = df_clean.duplicated(keep='first')\n",
    "\n",
    "for idx, is_duplicate in enumerate(duplicated_rows):\n",
    "    if is_duplicate:\n",
    "        duplicate_indices_full.append(idx)\n",
    "        \n",
    "print(f\"Found {len(duplicate_indices_full)} duplicate rows\")\n",
    "print(f\"Duplicate row indices: {duplicate_indices_full}\")\n",
    "\n",
    "\n",
    "df_clean = df_clean.drop(duplicate_indices_full, errors='ignore')\n",
    "print(df_clean)\n"
   ]
  },
  {
   "cell_type": "markdown",
   "id": "fd752aea",
   "metadata": {},
   "source": [
    "## Lägger till encoded för cut, color och clarity"
   ]
  },
  {
   "cell_type": "code",
   "execution_count": 7,
   "id": "c215f2d0",
   "metadata": {},
   "outputs": [],
   "source": [
    "df_clean['cut_encoded'] = df_clean.cut.cat.codes\n",
    "df_clean['color_encoded'] = df_clean.color.cat.codes\n",
    "df_clean['clarity_encoded'] = df_clean.clarity.cat.codes"
   ]
  },
  {
   "cell_type": "code",
   "execution_count": 8,
   "id": "ed4d9012",
   "metadata": {},
   "outputs": [],
   "source": [
    "# Tar bort cut, color och clarity-kolumnerna\n",
    "df_clean = df_clean.drop(['cut', 'color', 'clarity'], axis=1)\n"
   ]
  },
  {
   "cell_type": "markdown",
   "id": "1ea730e0",
   "metadata": {},
   "source": [
    "## Dela upp carat i 10 lika stora categorier\n"
   ]
  },
  {
   "cell_type": "code",
   "execution_count": null,
   "id": "939ae894",
   "metadata": {},
   "outputs": [],
   "source": [
    "df_clean['carat_bins'] = pd.cut(df_clean.carat, bins=10)"
   ]
  },
  {
   "cell_type": "markdown",
   "id": "415fe103",
   "metadata": {},
   "source": [
    "## Dela upp datasetet i tre: original, korrekt carat baserad på x, y, z och inkorrekt carat"
   ]
  },
  {
   "cell_type": "code",
   "execution_count": 9,
   "id": "31282249",
   "metadata": {},
   "outputs": [
    {
     "name": "stdout",
     "output_type": "stream",
     "text": [
      "Diamanter med korrekt beräknad carat: 23375\n",
      "Diamanter med inkorrekt beräknad carat: 29955\n",
      "Diamanter som antingen är runda eller kvadratiska: 52623\n"
     ]
    }
   ],
   "source": [
    "#- För rund: ((x + y)/2)² × z × 0.0061 med 2 % felmarginal\n",
    "#- För övriga: x × y × z × 0.0062\n",
    "diamonds_with_correct_carat = []\n",
    "diamonds_with_incorrect_carat =[]\n",
    "round_square_diamonds = []\n",
    "error_margin = 0.01\n",
    "\n",
    "for index, row in df_clean.iterrows():\n",
    "    x = row['x']\n",
    "    y = row['y']\n",
    "    z = row['z']\n",
    "    actual_carat = row['carat']\n",
    "    \n",
    "    if abs(x - y) <= 0.02 * ((x + y)/2):\n",
    "        round_square_diamonds.append(index)\n",
    "        recalculated_carat = ((x + y)/2)**2 * z * 0.0061\n",
    "        \n",
    "        relative_error = abs(recalculated_carat - actual_carat) /actual_carat\n",
    "        \n",
    "        if relative_error <= error_margin:\n",
    "            diamonds_with_correct_carat.append(index)\n",
    "        else:\n",
    "            diamonds_with_incorrect_carat.append(index)\n",
    "    else:\n",
    "        recalculated_carat = x * y * z * 0.0062\n",
    "        \n",
    "        relative_error = abs(recalculated_carat - actual_carat) /actual_carat\n",
    "        \n",
    "        if relative_error <= error_margin:\n",
    "            diamonds_with_correct_carat.append(index)\n",
    "        else:\n",
    "            diamonds_with_incorrect_carat.append(index)\n",
    "            \n",
    "print(f\"Diamanter med korrekt beräknad carat: {len(diamonds_with_correct_carat)}\")\n",
    "print(f\"Diamanter med inkorrekt beräknad carat: {len(diamonds_with_incorrect_carat)}\")\n",
    "print(f\"Diamanter som antingen är runda eller kvadratiska: {len(round_square_diamonds)}\")\n",
    "\n"
   ]
  },
  {
   "cell_type": "code",
   "execution_count": 10,
   "id": "84ff1f6e",
   "metadata": {},
   "outputs": [],
   "source": [
    "# Sparar om datan\n",
    "df_clean_corr_carat = df_clean.loc[diamonds_with_correct_carat].copy()\n",
    "df_clean_inc_carat = df_clean.loc[diamonds_with_incorrect_carat].copy()\n",
    "df_clean_original = df_clean.copy()\n"
   ]
  },
  {
   "cell_type": "markdown",
   "id": "b2e0f9ee",
   "metadata": {},
   "source": [
    "## Ta bort x, y, z\n"
   ]
  },
  {
   "cell_type": "code",
   "execution_count": 11,
   "id": "44b967e1",
   "metadata": {},
   "outputs": [],
   "source": [
    "df_clean_original_without_x_y_z = df_clean_original.drop(['x', 'y', 'z'], axis=1)\n",
    "df_clean_corr_carat_without_x_y_z = df_clean_corr_carat.drop(['x', 'y', 'z'], axis=1)\n",
    "df_clean_inc_carat_without_x_y_z = df_clean_inc_carat.drop(['x', 'y', 'z'], axis=1)\n"
   ]
  },
  {
   "cell_type": "code",
   "execution_count": 12,
   "id": "917482c8",
   "metadata": {},
   "outputs": [],
   "source": [
    "df_clean_corr_carat_without_x_y_z.to_csv('../data/diamonds_clean_cor_without_x_y_z.csv', index=True)"
   ]
  },
  {
   "cell_type": "code",
   "execution_count": 13,
   "id": "388db277",
   "metadata": {},
   "outputs": [
    {
     "name": "stdout",
     "output_type": "stream",
     "text": [
      "       carat  depth  table  price  cut_encoded  color_encoded  clarity_encoded\n",
      "0       0.23   61.5   55.0    326            4              5                1\n",
      "1       0.21   59.8   61.0    326            3              5                2\n",
      "2       0.23   56.9   65.0    327            1              5                4\n",
      "3       0.29   62.4   58.0    334            3              1                3\n",
      "4       0.31   63.3   58.0    335            1              0                1\n",
      "...      ...    ...    ...    ...          ...            ...              ...\n",
      "53935   0.72   60.8   57.0   2757            4              6                2\n",
      "53936   0.72   63.1   55.0   2757            1              6                2\n",
      "53937   0.70   62.8   60.0   2757            2              6                2\n",
      "53938   0.86   61.0   58.0   2757            3              2                1\n",
      "53939   0.75   62.2   55.0   2757            4              6                1\n",
      "\n",
      "[53330 rows x 7 columns]\n"
     ]
    }
   ],
   "source": [
    "print(df_clean_original_without_x_y_z)\n",
    "df_clean_original_without_x_y_z.to_csv('../data/diamonds_clean_without_x_y_z.csv', index=True)\n",
    "\n"
   ]
  },
  {
   "cell_type": "markdown",
   "id": "611ae38b",
   "metadata": {},
   "source": [
    "# Normalisera datan"
   ]
  },
  {
   "cell_type": "code",
   "execution_count": 14,
   "id": "d8ae78a3",
   "metadata": {},
   "outputs": [],
   "source": [
    "numeric_cols = ['carat', 'depth', 'table', 'price', 'cut_encoded', 'color_encoded', 'clarity_encoded']\n",
    "scaler = StandardScaler()\n",
    "\n",
    "df_clean_corr_carat_without_x_y_z[numeric_cols] = scaler.fit_transform(df_clean_corr_carat_without_x_y_z[numeric_cols])\n",
    "df_clean_inc_carat_without_x_y_z[numeric_cols] = scaler.fit_transform(df_clean_inc_carat_without_x_y_z[numeric_cols])\n",
    "df_clean_original_without_x_y_z[numeric_cols] = scaler.fit_transform(df_clean_original_without_x_y_z[numeric_cols])\n",
    "\n",
    "\n"
   ]
  },
  {
   "cell_type": "code",
   "execution_count": 15,
   "id": "dcff3584",
   "metadata": {},
   "outputs": [],
   "source": [
    "# Sparar dataset till nya csv-filer\n",
    "df_clean_original_without_x_y_z.to_csv('../data/normalized_diamonds_clean_without_x_y_z.csv', index=True)\n",
    "df_clean_corr_carat_without_x_y_z.to_csv('../data/normalized_diamonds_clean_corr_carat_without_x_y_z.csv', index=True)\n",
    "df_clean_inc_carat_without_x_y_z.to_csv('../data/normalized_diamonds_clean_inc_carat_without_x_y_z.csv', index=True)\n"
   ]
  }
 ],
 "metadata": {
  "kernelspec": {
   "display_name": ".venv",
   "language": "python",
   "name": "python3"
  },
  "language_info": {
   "codemirror_mode": {
    "name": "ipython",
    "version": 3
   },
   "file_extension": ".py",
   "mimetype": "text/x-python",
   "name": "python",
   "nbconvert_exporter": "python",
   "pygments_lexer": "ipython3",
   "version": "3.11.2"
  }
 },
 "nbformat": 4,
 "nbformat_minor": 5
}
